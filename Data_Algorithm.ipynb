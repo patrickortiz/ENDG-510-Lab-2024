{
 "cells": [
  {
   "cell_type": "code",
   "execution_count": 1,
   "id": "507a826f-3aa4-4aa3-a5c5-0994f598c250",
   "metadata": {},
   "outputs": [],
   "source": [
    "#load class\n",
    "import numpy as np\n",
    "import pandas as pd\n",
    "import os\n",
    "from sklearn.neighbors import KNeighborsClassifier\n",
    "from sklearn.preprocessing import StandardScaler #module for perform scaling\n",
    "from sklearn.model_selection import train_test_split \n",
    "from sklearn import metrics #module for evaluating performance"
   ]
  },
  {
   "cell_type": "code",
   "execution_count": 2,
   "id": "7766a749-30d4-4fc3-8f3f-e95a3ee8ee2b",
   "metadata": {},
   "outputs": [
    {
     "data": {
      "text/html": [
       "<div>\n",
       "<style scoped>\n",
       "    .dataframe tbody tr th:only-of-type {\n",
       "        vertical-align: middle;\n",
       "    }\n",
       "\n",
       "    .dataframe tbody tr th {\n",
       "        vertical-align: top;\n",
       "    }\n",
       "\n",
       "    .dataframe thead th {\n",
       "        text-align: right;\n",
       "    }\n",
       "</style>\n",
       "<table border=\"1\" class=\"dataframe\">\n",
       "  <thead>\n",
       "    <tr style=\"text-align: right;\">\n",
       "      <th></th>\n",
       "      <th>Temp</th>\n",
       "      <th>Humd</th>\n",
       "      <th>Label</th>\n",
       "    </tr>\n",
       "  </thead>\n",
       "  <tbody>\n",
       "    <tr>\n",
       "      <th>0</th>\n",
       "      <td>24.0</td>\n",
       "      <td>27.0</td>\n",
       "      <td>1</td>\n",
       "    </tr>\n",
       "    <tr>\n",
       "      <th>1</th>\n",
       "      <td>24.0</td>\n",
       "      <td>27.0</td>\n",
       "      <td>1</td>\n",
       "    </tr>\n",
       "    <tr>\n",
       "      <th>2</th>\n",
       "      <td>24.0</td>\n",
       "      <td>27.0</td>\n",
       "      <td>1</td>\n",
       "    </tr>\n",
       "    <tr>\n",
       "      <th>3</th>\n",
       "      <td>24.0</td>\n",
       "      <td>28.0</td>\n",
       "      <td>1</td>\n",
       "    </tr>\n",
       "    <tr>\n",
       "      <th>4</th>\n",
       "      <td>24.0</td>\n",
       "      <td>28.0</td>\n",
       "      <td>1</td>\n",
       "    </tr>\n",
       "  </tbody>\n",
       "</table>\n",
       "</div>"
      ],
      "text/plain": [
       "   Temp  Humd  Label\n",
       "0  24.0  27.0      1\n",
       "1  24.0  27.0      1\n",
       "2  24.0  27.0      1\n",
       "3  24.0  28.0      1\n",
       "4  24.0  28.0      1"
      ]
     },
     "execution_count": 2,
     "metadata": {},
     "output_type": "execute_result"
    }
   ],
   "source": [
    "#load your data\n",
    "df = pd.read_csv(\"data.csv\") #change the name accordingly\n",
    "df.head() # prints top 5 rows from the datatset to check data is load or no"
   ]
  },
  {
   "cell_type": "code",
   "execution_count": 4,
   "id": "8cea94c0-1a91-49d9-8adb-c7cdfbf7df9f",
   "metadata": {},
   "outputs": [
    {
     "name": "stdout",
     "output_type": "stream",
     "text": [
      "Missing Values:\n",
      " Temp     0\n",
      "Humd     0\n",
      "Label    0\n",
      "dtype: int64\n"
     ]
    }
   ],
   "source": [
    "# Check for missing values\n",
    "missing_values = df.isnull().sum()\n",
    "print(\"Missing Values:\\n\", missing_values)"
   ]
  },
  {
   "cell_type": "code",
   "execution_count": 3,
   "id": "5619e96c-ba9c-4bec-a913-84db22b6c4db",
   "metadata": {},
   "outputs": [],
   "source": [
    "# remove duplicatesd\n",
    "df = df.drop_duplicates()"
   ]
  },
  {
   "cell_type": "code",
   "execution_count": 4,
   "id": "cba1b93c-8036-41db-9fdf-5c7427c6e4b1",
   "metadata": {},
   "outputs": [],
   "source": [
    "# prepare features\n",
    "x = df.drop(['Label'],axis=1) #remove class or label\n",
    "y = df['Label'] #load label"
   ]
  },
  {
   "cell_type": "code",
   "execution_count": 5,
   "id": "ce353c3e-67a4-4477-b304-861cc957f404",
   "metadata": {},
   "outputs": [],
   "source": [
    "x_train,x_test,y_train,y_test = train_test_split(x,y,test_size=.2)"
   ]
  },
  {
   "cell_type": "code",
   "execution_count": 6,
   "id": "f6c992c5-0dcb-42f6-bf9b-5937a2eb4fde",
   "metadata": {},
   "outputs": [],
   "source": [
    "# Scale the data using standardization\n",
    "scaler = StandardScaler()\n",
    "x_train = scaler.fit_transform(x_train) #scale training set\n",
    "x_test = scaler.transform(x_test) #scale test set"
   ]
  },
  {
   "cell_type": "code",
   "execution_count": 7,
   "id": "29d49799-51e6-4901-965b-a1e419fa0004",
   "metadata": {},
   "outputs": [],
   "source": [
    "z = KNeighborsClassifier(n_neighbors=5) # KNN classifier for 3 neighbours\n",
    "KNN = z.fit(x_train,y_train) # start training"
   ]
  },
  {
   "cell_type": "code",
   "execution_count": 8,
   "id": "9b0df4bb-e262-4d4b-ba83-89c6f4254e41",
   "metadata": {},
   "outputs": [],
   "source": [
    "predict = KNN.predict(x_test) # performance in the test set"
   ]
  },
  {
   "cell_type": "code",
   "execution_count": 9,
   "id": "befd8477-66fc-4175-a65a-6ae726c8f463",
   "metadata": {},
   "outputs": [
    {
     "name": "stdout",
     "output_type": "stream",
     "text": [
      "Accuracy: 1.0\n"
     ]
    }
   ],
   "source": [
    "print(\"Accuracy:\", metrics.accuracy_score(y_test,predict)) # evaluating the performance based on accuracy"
   ]
  },
  {
   "cell_type": "code",
   "execution_count": 10,
   "id": "096dbb66-ee9f-4320-82cd-a9fa9fec5847",
   "metadata": {},
   "outputs": [],
   "source": [
    "# library for save and load scikit-learn models\n",
    "import pickle\n",
    "# file name, recommending *.pickle as a file extension\n",
    "filename = \"model2.pickle\"\n",
    "# save model\n",
    "pickle.dump(z, open(filename, \"wb\"))"
   ]
  },
  {
   "cell_type": "code",
   "execution_count": null,
   "id": "f3718d97-08a5-4d94-a91e-3c5e63866066",
   "metadata": {},
   "outputs": [],
   "source": []
  }
 ],
 "metadata": {
  "kernelspec": {
   "display_name": "Python 3 (ipykernel)",
   "language": "python",
   "name": "python3"
  },
  "language_info": {
   "codemirror_mode": {
    "name": "ipython",
    "version": 3
   },
   "file_extension": ".py",
   "mimetype": "text/x-python",
   "name": "python",
   "nbconvert_exporter": "python",
   "pygments_lexer": "ipython3",
   "version": "3.10.15"
  }
 },
 "nbformat": 4,
 "nbformat_minor": 5
}
