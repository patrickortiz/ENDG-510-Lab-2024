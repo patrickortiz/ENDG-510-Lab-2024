{
 "cells": [
  {
   "cell_type": "code",
   "execution_count": 64,
   "id": "507a826f-3aa4-4aa3-a5c5-0994f598c250",
   "metadata": {},
   "outputs": [
    {
     "name": "stdout",
     "output_type": "stream",
     "text": [
      "   Temp  Humd  Label\n",
      "0  24.0  27.0      1\n",
      "1  24.0  27.0      1\n",
      "2  24.0  27.0      1\n",
      "3  24.0  28.0      1\n",
      "4  24.0  28.0      1\n",
      "Missing Values:\n",
      " Temp     0\n",
      "Humd     0\n",
      "Label    0\n",
      "dtype: int64\n"
     ]
    }
   ],
   "source": [
    "#load class\n",
    "import numpy as np\n",
    "import pandas as pd\n",
    "import os\n",
    "from sklearn.preprocessing import StandardScaler #module for perform scaling\n",
    "from sklearn.model_selection import train_test_split \n",
    "from sklearn import metrics #module for evaluating performance\n",
    "\n",
    "#load your data\n",
    "df = pd.read_csv(\"fake_data.csv\") #change the name accordingly\n",
    "print(df.head()) # prints top 5 rows from the datatset to check data is load or no\n",
    "\n",
    "# Check for missing values\n",
    "missing_values = df.isnull().sum()\n",
    "print(\"Missing Values:\\n\", missing_values)\n",
    "\n",
    "# remove duplicatesd\n",
    "df = df.drop_duplicates()\n",
    "\n",
    "# prepare features\n",
    "x = df.drop(['Label'],axis=1) #remove class or label\n",
    "y = df['Label'] #load label\n",
    "\n",
    "x_train,x_test,y_train,y_test = train_test_split(x,y,test_size=.2)\n",
    "\n",
    "# Scale the data using standardization\n",
    "scaler = StandardScaler()\n",
    "x_train = scaler.fit_transform(x_train) #scale training set\n",
    "x_test = scaler.transform(x_test) #scale test set"
   ]
  },
  {
   "cell_type": "markdown",
   "id": "1e0d4225-895d-4b0a-9301-a8cb3cec7887",
   "metadata": {},
   "source": [
    "### Algorithm #1: KNN Classifier"
   ]
  },
  {
   "cell_type": "code",
   "execution_count": 65,
   "id": "29d49799-51e6-4901-965b-a1e419fa0004",
   "metadata": {},
   "outputs": [
    {
     "name": "stdout",
     "output_type": "stream",
     "text": [
      "KNearestNeighbors Accuracy: 0.9444444444444444\n",
      "KNearestNeighbors Specificity: 0.7142857142857143\n"
     ]
    }
   ],
   "source": [
    "from sklearn.neighbors import KNeighborsClassifier\n",
    "from sklearn.metrics import confusion_matrix\n",
    "\n",
    "z = KNeighborsClassifier(n_neighbors=3) # KNN classifier for 3 neighbours\n",
    "KNN = z.fit(x_train,y_train) # start training\n",
    "KNN_predict = KNN.predict(x_test) # performance in the test set\n",
    "\n",
    "#Evaluate the accuracy\n",
    "predict = metrics.accuracy_score(y_test, KNN_predict)\n",
    "print(\"KNearestNeighbors Accuracy:\", predict)\n",
    "\n",
    "# Calculate specificity\n",
    "KNN_cm = confusion_matrix(y_test, KNN_predict)\n",
    "TP1, FP1, FN1, TN1 = KNN_cm.ravel()\n",
    "KNN_specificity = (TN1 / (TN1 + FP1))\n",
    "print(\"KNearestNeighbors Specificity:\", KNN_specificity)"
   ]
  },
  {
   "cell_type": "code",
   "execution_count": 66,
   "id": "096dbb66-ee9f-4320-82cd-a9fa9fec5847",
   "metadata": {},
   "outputs": [],
   "source": [
    "# library for save and load scikit-learn models\n",
    "import pickle\n",
    "# file name, recommending *.pickle as a file extension\n",
    "filename = \"KNN.pickle\"\n",
    "# save model\n",
    "pickle.dump(z, open(filename, \"wb\"))"
   ]
  },
  {
   "cell_type": "markdown",
   "id": "c456844d-b3d5-4b46-b380-4c3805889b8c",
   "metadata": {},
   "source": [
    "### Algorithm #2: RandomForestClassifier"
   ]
  },
  {
   "cell_type": "code",
   "execution_count": 67,
   "id": "721d0f04-926a-4497-a5a0-8e5c18fa3338",
   "metadata": {},
   "outputs": [
    {
     "name": "stdout",
     "output_type": "stream",
     "text": [
      "RandomForestClassifier Accuracy: 0.9583333333333334\n",
      "RandomForestClassifier Specificity: 0.7916666666666666\n"
     ]
    }
   ],
   "source": [
    "from sklearn.ensemble import RandomForestClassifier\n",
    "\n",
    "rf = RandomForestClassifier()\n",
    "rf.fit(x_train, y_train)\n",
    "rf_pred = rf.predict(x_test)\n",
    "\n",
    "#Evaluate the accuracy\n",
    "rf_accuracy = metrics.accuracy_score(y_test, rf_pred)\n",
    "print(\"RandomForestClassifier Accuracy:\", rf_accuracy)\n",
    "\n",
    "# Calculate specificity\n",
    "rf_cm = confusion_matrix(y_test, rf_pred)\n",
    "TP2, FP2, FN2, TN2 = rf_cm.ravel()\n",
    "rf_specificity = (TN2 / (TN2 + FP2))\n",
    "print(\"RandomForestClassifier Specificity:\", rf_specificity)"
   ]
  },
  {
   "cell_type": "code",
   "execution_count": 68,
   "id": "d975bf4d-5eff-4e9f-8973-6a09326c8d32",
   "metadata": {},
   "outputs": [],
   "source": [
    "# library for save and load scikit-learn models\n",
    "import pickle\n",
    "# file name, recommending *.pickle as a file extension\n",
    "filename = \"RFC.pickle\"\n",
    "# save model\n",
    "pickle.dump(z, open(filename, \"wb\"))"
   ]
  },
  {
   "cell_type": "markdown",
   "id": "ec21e664-b67f-4495-bd04-9f5ea81b8947",
   "metadata": {},
   "source": [
    "### Algorithm #3: Logistic Regression"
   ]
  },
  {
   "cell_type": "code",
   "execution_count": 73,
   "id": "92c959a0-73da-4da5-813f-3e2d3b6507b6",
   "metadata": {},
   "outputs": [
    {
     "name": "stdout",
     "output_type": "stream",
     "text": [
      "Logistic Regression Accuracy: 0.8611111111111112\n",
      "Logistic Regression Specificity: Undefined (denominator is zero)\n"
     ]
    }
   ],
   "source": [
    "from sklearn.linear_model import LogisticRegression\n",
    "\n",
    "log_reg = LogisticRegression()\n",
    "log_reg.fit(x_train, y_train)\n",
    "log_pred = log_reg.predict(x_test)\n",
    "\n",
    "# Evaluate the accuracy\n",
    "log_reg_accuracy = metrics.accuracy_score(y_test, log_pred)\n",
    "print(\"Logistic Regression Accuracy:\", log_reg_accuracy)\n",
    "\n",
    "# Calculate specificity\n",
    "Log_cm = confusion_matrix(y_test, log_pred)\n",
    "TP3, FP3, FN3, TN3 = Log_cm.ravel()\n",
    "\n",
    "if (TN3 + FP3) == 0:\n",
    "    Log_specificity = float('nan')\n",
    "    print(\"Logistic Regression Specificity: Undefined (denominator is zero)\")\n",
    "else:\n",
    "    Log_specificity = TN3 / (TN3 + FP3)\n",
    "    print(\"Logistic Regression Specificity:\", Log_specificity)"
   ]
  },
  {
   "cell_type": "code",
   "execution_count": 74,
   "id": "6b80bf9d-bffd-4fc5-8850-b31ce308c598",
   "metadata": {},
   "outputs": [],
   "source": [
    "# library for save and load scikit-learn models\n",
    "import pickle\n",
    "# file name, recommending *.pickle as a file extension\n",
    "filename = \"log_reg.pickle\"\n",
    "# save model\n",
    "pickle.dump(z, open(filename, \"wb\"))"
   ]
  },
  {
   "cell_type": "markdown",
   "id": "7f055557-9680-438e-a5d8-336e9a07a280",
   "metadata": {},
   "source": [
    "### Confussion Matrix"
   ]
  },
  {
   "cell_type": "code",
   "execution_count": 75,
   "id": "8a2336dd-84bc-4d7c-9941-ebad9472cde4",
   "metadata": {},
   "outputs": [
    {
     "data": {
      "image/png": "[encoded data removed]",
      "text/plain": [
       "<Figure size 1500x500 with 3 Axes>"
      ]
     },
     "metadata": {},
     "output_type": "display_data"
    }
   ],
   "source": [
    "import seaborn as sns\n",
    "import matplotlib.pyplot as plt\n",
    "\n",
    "KNN_cm = metrics.confusion_matrix(y_test, KNN_predict)\n",
    "log_reg_cm = metrics.confusion_matrix(y_test, rf_pred)\n",
    "rf_cm = metrics.confusion_matrix(y_test, log_pred)\n",
    "\n",
    "fig, axes = plt.subplots(1, 3, figsize=(15, 5))\n",
    "\n",
    "sns.heatmap(KNN_cm, annot=True, fmt=\"d\", cmap=\"Blues\", cbar=False, ax=axes[0])\n",
    "axes[0].set_xlabel(\"Predicted\")\n",
    "axes[0].set_ylabel(\"Actual\")\n",
    "axes[0].set_title(\"Confusion Matrix for KNearestNeighbors\")\n",
    "\n",
    "sns.heatmap(log_reg_cm, annot=True, fmt=\"d\", cmap=\"Greens\", cbar=False, ax=axes[1])\n",
    "axes[1].set_xlabel(\"Predicted\")\n",
    "axes[1].set_ylabel(\"Actual\")\n",
    "axes[1].set_title(\"Confusion Matrix for Random Forest\")\n",
    "\n",
    "sns.heatmap(rf_cm, annot=True, fmt=\"d\", cmap=\"Oranges\", cbar=False, ax=axes[2])\n",
    "axes[2].set_xlabel(\"Predicted\")\n",
    "axes[2].set_ylabel(\"Actual\")\n",
    "axes[2].set_title(\"Confusion Matric for Logistic Regression\")\n",
    "\n",
    "plt.tight_layout()\n",
    "plt.show()"
   ]
  }
 ],
 "metadata": {
  "kernelspec": {
   "display_name": "Python 3 (ipykernel)",
   "language": "python",
   "name": "python3"
  },
  "language_info": {
   "codemirror_mode": {
    "name": "ipython",
    "version": 3
   },
   "file_extension": ".py",
   "mimetype": "text/x-python",
   "name": "python",
   "nbconvert_exporter": "python",
   "pygments_lexer": "ipython3",
   "version": "3.10.15"
  }
 },
 "nbformat": 4,
 "nbformat_minor": 5
}
