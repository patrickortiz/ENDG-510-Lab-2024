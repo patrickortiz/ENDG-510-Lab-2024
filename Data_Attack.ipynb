{
 "cells": [
  {
   "cell_type": "code",
   "execution_count": 1,
   "id": "54b707e6-55dd-417f-a74f-226a35c30196",
   "metadata": {},
   "outputs": [],
   "source": [
    "import pandas as pd # In case of error, install pandas using: pip install pandas\n",
    "\n",
    "from random import randint\n",
    "# Read the CSV file into a DataFrame\n",
    "df = pd.read_csv('data.csv')\n",
    "\n",
    "for i in range(497):\n",
    "    new_data = {'Temp': randint(0, 200), 'Humd': randint(100, 300), 'Label': 0}\n",
    "    df = df._append(new_data, ignore_index=True)\n",
    "    \n",
    "    \n",
    "# Step 3: Save the DataFrame to a new CSV file    \n",
    "df.to_csv(\"fake_data.csv\", index=False)"
   ]
  }
 ],
 "metadata": {
  "kernelspec": {
   "display_name": "Python 3 (ipykernel)",
   "language": "python",
   "name": "python3"
  },
  "language_info": {
   "codemirror_mode": {
    "name": "ipython",
    "version": 3
   },
   "file_extension": ".py",
   "mimetype": "text/x-python",
   "name": "python",
   "nbconvert_exporter": "python",
   "pygments_lexer": "ipython3",
   "version": "3.10.15"
  }
 },
 "nbformat": 4,
 "nbformat_minor": 5
}
