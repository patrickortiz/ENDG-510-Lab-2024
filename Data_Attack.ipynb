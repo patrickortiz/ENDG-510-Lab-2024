{
 "cells": [
  {
   "cell_type": "code",
   "execution_count": 2,
   "id": "bcbf7416-e875-4b19-9d21-bf5b6bf9d292",
   "metadata": {},
   "outputs": [],
   "source": [
    "import pandas as pd # in case of error, install pnadas using: pip install pandas\n",
    "# Read the CSV file into a DataFrame\n",
    "df = pd.read_csv('data.csv')\n",
    "new_data = {\n",
    "    'Temp': 366,\n",
    "    'Humd': 901,\n",
    "    'Label': 0\n",
    "}\n",
    "df = df._append(new_data, ignore_index=True)"
   ]
  },
  {
   "cell_type": "code",
   "execution_count": 4,
   "id": "b2657155-f99e-43f5-89c1-bfaf21308c72",
   "metadata": {},
   "outputs": [],
   "source": [
    "new_data = {\n",
    "    'Temp': 413,\n",
    "    'Humd': 761,\n",
    "    'Label': 0\n",
    "}\n",
    "df = df._append(new_data, ignore_index=True)"
   ]
  },
  {
   "cell_type": "code",
   "execution_count": 5,
   "id": "3dc9b5f6-deb6-4e03-9679-aa5b5ffd31e3",
   "metadata": {},
   "outputs": [],
   "source": [
    "new_data = {\n",
    "    'Temp': 237,\n",
    "    'Humd': 655,\n",
    "    'Label': 0\n",
    "}\n",
    "df = df._append(new_data, ignore_index=True)"
   ]
  },
  {
   "cell_type": "code",
   "execution_count": 6,
   "id": "7b9a05a0-0392-457a-a08f-0610cc8cb7df",
   "metadata": {},
   "outputs": [
    {
     "name": "stdout",
     "output_type": "stream",
     "text": [
      "      Temp   Humd  Label\n",
      "0     24.0   27.0      1\n",
      "1     24.0   27.0      1\n",
      "2     24.0   27.0      1\n",
      "3     24.0   28.0      1\n",
      "4     24.0   28.0      1\n",
      "..     ...    ...    ...\n",
      "499   30.0   47.0      1\n",
      "500   30.0   61.0      1\n",
      "501  366.0  901.0      0\n",
      "502  413.0  761.0      0\n",
      "503  237.0  655.0      0\n",
      "\n",
      "[504 rows x 3 columns]\n"
     ]
    }
   ],
   "source": [
    "print(df)"
   ]
  },
  {
   "cell_type": "code",
   "execution_count": null,
   "id": "37698eff-a608-4266-a403-785533449072",
   "metadata": {},
   "outputs": [],
   "source": [
    "# Step 3: Save the DataFrame to a new CSV file\n",
    "df.to_csv(\"fake_data.csv\", index=False)"
   ]
  }
 ],
 "metadata": {
  "kernelspec": {
   "display_name": "Python 3 (ipykernel)",
   "language": "python",
   "name": "python3"
  },
  "language_info": {
   "codemirror_mode": {
    "name": "ipython",
    "version": 3
   },
   "file_extension": ".py",
   "mimetype": "text/x-python",
   "name": "python",
   "nbconvert_exporter": "python",
   "pygments_lexer": "ipython3",
   "version": "3.10.15"
  }
 },
 "nbformat": 4,
 "nbformat_minor": 5
}
